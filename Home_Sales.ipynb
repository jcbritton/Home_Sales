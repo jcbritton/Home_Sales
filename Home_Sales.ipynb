{
 "cells": [
  {
   "cell_type": "code",
   "execution_count": null,
   "metadata": {},
   "outputs": [],
   "source": [
    "# Please see the published databricks notebook at: https://databricks-prod-cloudfront.cloud.databricks.com/public/4027ec902e239c93eaaa8714f173bcfc/2938235998916852/2021972478966399/5200638329299319/latest.html"
   ]
  },
  {
   "cell_type": "code",
   "execution_count": 0,
   "metadata": {
    "ExecuteTime": {
     "end_time": "2024-11-26T22:32:28.087671Z",
     "start_time": "2024-11-26T22:32:28.067697Z"
    },
    "application/vnd.databricks.v1+cell": {
     "cellMetadata": {
      "byteLimit": 2048000,
      "rowLimit": 10000
     },
     "inputWidgets": {},
     "nuid": "07bebf9e-842d-40a5-9e3c-b6fa1c022ad5",
     "showTitle": false,
     "tableResultSettingsMap": {},
     "title": ""
    },
    "colab": {
     "base_uri": "https://localhost:8080/"
    },
    "id": "a_KW73O2e3dw",
    "outputId": "fa5fd2b3-e2de-491b-ee1c-405317ba7ebc"
   },
   "outputs": [
    {
     "name": "stdout",
     "output_type": "stream",
     "text": [
      "\r0% [Working]\r            \rHit:1 https://repos.azul.com/zulu/deb stable InRelease\r\n",
      "\r0% [Connecting to archive.ubuntu.com (185.125.190.83)] [Waiting for headers] [C\r                                                                               \rGet:2 http://security.ubuntu.com/ubuntu focal-security InRelease [128 kB]\r\n",
      "\r0% [Connecting to archive.ubuntu.com (185.125.190.83)] [2 InRelease 14.2 kB/128\r0% [Waiting for headers] [2 InRelease 25.8 kB/128 kB 20%] [Waiting for headers]\r                                                                               \rHit:3 http://ppa.launchpad.net/deadsnakes/ppa/ubuntu focal InRelease\r\n",
      "\r                                                                               \r0% [Waiting for headers] [2 InRelease 43.1 kB/128 kB 34%]\r                                                         \rHit:4 http://archive.ubuntu.com/ubuntu focal InRelease\r\n",
      "\r0% [Waiting for headers] [2 InRelease 50.4 kB/128 kB 39%]\r                                                         \r0% [Waiting for headers] [2 InRelease 123 kB/128 kB 96%]\r                                                        \r0% [Waiting for headers]\r                        \rGet:5 http://archive.ubuntu.com/ubuntu focal-updates InRelease [128 kB]\r\n",
      "\r0% [5 InRelease 14.2 kB/128 kB 11%]\r0% [5 InRelease 15.6 kB/128 kB 12%]\r0% [5 InRelease 24.3 kB/128 kB 19%]\r                                   \rGet:6 http://security.ubuntu.com/ubuntu focal-security/restricted amd64 Packages [4137 kB]\r\n",
      "\r0% [5 InRelease 44.6 kB/128 kB 35%] [6 Packages 2685 B/4137 kB 0%]\r                                                                  \r0% [6 Packages 502 kB/4137 kB 12%]\r0% [Waiting for headers] [6 Packages 1351 kB/4137 kB 33%]\r                                                         \rGet:7 http://archive.ubuntu.com/ubuntu focal-backports InRelease [128 kB]\r\n",
      "\r0% [7 InRelease 2588 B/128 kB 2%] [6 Packages 2034 kB/4137 kB 49%]\r                                                                  \r0% [7 InRelease 96.7 kB/128 kB 76%]\r0% [6 Packages store 0 B] [7 InRelease 96.7 kB/128 kB 76%]\r                                                          \r0% [6 Packages store 0 B] [Waiting for headers]\r                                               \rGet:8 http://security.ubuntu.com/ubuntu focal-security/universe amd64 Packages [1278 kB]\r\n",
      "\r0% [6 Packages store 0 B] [Waiting for headers] [8 Packages 172 kB/1278 kB 13%]\r                                                                               \r0% [6 Packages store 0 B] [Waiting for headers]\r                                               \rGet:9 http://security.ubuntu.com/ubuntu focal-security/multiverse amd64 Packages [30.9 kB]\r\n",
      "\r0% [6 Packages store 0 B] [Waiting for headers] [9 Packages 0 B/30.9 kB 0%]\r                                                                           \r0% [6 Packages store 0 B] [Waiting for headers]\r                                               \rGet:10 http://security.ubuntu.com/ubuntu focal-security/main amd64 Packages [4109 kB]\r\n",
      "\r0% [6 Packages store 0 B] [Waiting for headers] [10 Packages 0 B/4109 kB 0%]\r                                                                            \rGet:11 http://archive.ubuntu.com/ubuntu focal-updates/main amd64 Packages [4578 kB]\r\n",
      "\r0% [6 Packages store 0 B] [11 Packages 2655 B/4578 kB 0%] [10 Packages 3508 kB/\r                                                                               \r0% [6 Packages store 0 B] [11 Packages 63.5 kB/4578 kB 1%]\r56% [6 Packages store 0 B] [11 Packages 96.8 kB/4578 kB 2%]\r                                                           \r57% [11 Packages 266 kB/4578 kB 6%]\r57% [8 Packages store 0 B] [11 Packages 266 kB/4578 kB 6%]\r                                                          \r58% [11 Packages 388 kB/4578 kB 8%]\r58% [9 Packages store 0 B] [11 Packages 388 kB/4578 kB 8%]\r                                                          \r58% [11 Packages 394 kB/4578 kB 9%]\r58% [10 Packages store 0 B] [11 Packages 394 kB/4578 kB 9%]\r                                                           \r63% [11 Packages 1568 kB/4578 kB 34%]\r                                     \r75% [Working]\r             \rGet:12 http://archive.ubuntu.com/ubuntu focal-updates/multiverse amd64 Packages [33.5 kB]\r\n",
      "\r75% [12 Packages 33.5 kB/33.5 kB 100%]\r75% [11 Packages store 0 B] [12 Packages 33.5 kB/33.5 kB 100%]\r                                                              \r75% [11 Packages store 0 B] [Waiting for headers]\r                                                 \rGet:13 http://archive.ubuntu.com/ubuntu focal-updates/universe amd64 Packages [1568 kB]\r\n",
      "\r75% [11 Packages store 0 B] [13 Packages 46.4 kB/1568 kB 3%]\r                                                            \r81% [11 Packages store 0 B]\r                           \rGet:14 http://archive.ubuntu.com/ubuntu focal-updates/restricted amd64 Packages [4304 kB]\r\n",
      "\r81% [11 Packages store 0 B] [14 Packages 0 B/4304 kB 0%]\r                                                        \r97% [14 Packages 4009 kB/4304 kB 93%]\r97% [12 Packages store 0 B] [14 Packages 4009 kB/4304 kB 93%]\r                                                             \r98% [14 Packages 4009 kB/4304 kB 93%]\r98% [13 Packages store 0 B] [14 Packages 4009 kB/4304 kB 93%]\r                                                             \r99% [13 Packages store 0 B]\r                           \r100% [Working]\r100% [14 Packages store 0 B]\r                            \r100% [Working]\r              \rFetched 20.4 MB in 3s (7123 kB/s)\r\n",
      "\rReading package lists... 0%\r\rReading package lists... 0%\r\rReading package lists... 0%\r\rReading package lists... 3%\r\rReading package lists... 3%\r\rReading package lists... 3%\r\rReading package lists... 3%\r\rReading package lists... 36%\r\rReading package lists... 36%\r\rReading package lists... 37%\r\rReading package lists... 37%\r\rReading package lists... 47%\r\rReading package lists... 50%\r\rReading package lists... 50%\r\rReading package lists... 63%\r\rReading package lists... 63%\r\rReading package lists... 67%\r\rReading package lists... 67%\r\rReading package lists... 67%\r\rReading package lists... 67%\r\rReading package lists... 68%\r\rReading package lists... 68%\r\rReading package lists... 68%\r\rReading package lists... 68%\r\rReading package lists... 80%\r\rReading package lists... 80%\r\rReading package lists... 92%\r\rReading package lists... 92%\r\rReading package lists... 96%\r\rReading package lists... 96%\r\rReading package lists... 96%\r\rReading package lists... 96%\r\rReading package lists... 96%\r\rReading package lists... 96%\r\rReading package lists... 98%\r\rReading package lists... 98%\r\rReading package lists... 99%\r\rReading package lists... 99%\r\rReading package lists... Done\r\r\n",
      "debconf: delaying package configuration, since apt-utils is not installed\r\n",
      "\u001b[33mWARNING: You are using pip version 21.2.4; however, version 24.3.1 is available.\r\n",
      "You should consider upgrading via the '/local_disk0/.ephemeral_nfs/envs/pythonEnv-59bb51ec-ec24-4ff8-b7af-11a9f58166a2/bin/python -m pip install --upgrade pip' command.\u001b[0m\r\n"
     ]
    }
   ],
   "source": [
    "import os\n",
    "# Find the latest version of spark 3.x  from http://www.apache.org/dist/spark/ and enter as the spark version\n",
    "# For example:\n",
    "# spark_version = 'spark-3.4.0'\n",
    "spark_version = 'spark-3.5.3'\n",
    "os.environ['SPARK_VERSION']=spark_version\n",
    "\n",
    "# Install Spark and Java\n",
    "!apt-get update\n",
    "!apt-get install openjdk-11-jdk-headless -qq > /dev/null\n",
    "!wget -q http://www.apache.org/dist/spark/$SPARK_VERSION/$SPARK_VERSION-bin-hadoop3.tgz\n",
    "!tar xf $SPARK_VERSION-bin-hadoop3.tgz\n",
    "!pip install -q findspark\n",
    "\n",
    "# Set Environment Variables\n",
    "os.environ[\"JAVA_HOME\"] = \"/usr/lib/jvm/java-11-openjdk-amd64\"\n",
    "os.environ[\"SPARK_HOME\"] = f\"/content/{spark_version}-bin-hadoop3\"\n",
    "\n",
    "# Start a SparkSession\n",
    "import findspark\n",
    "findspark.init()"
   ]
  },
  {
   "cell_type": "code",
   "execution_count": 0,
   "metadata": {
    "ExecuteTime": {
     "end_time": "2024-11-26T23:51:46.671137Z",
     "start_time": "2024-11-26T23:51:40.955201Z"
    },
    "application/vnd.databricks.v1+cell": {
     "cellMetadata": {
      "byteLimit": 2048000,
      "rowLimit": 10000
     },
     "inputWidgets": {},
     "nuid": "e9ebb818-533b-460c-937b-532644299d3c",
     "showTitle": false,
     "tableResultSettingsMap": {},
     "title": ""
    },
    "id": "2XbWNf1Te5fM"
   },
   "outputs": [],
   "source": [
    "# Import packages\n",
    "from pyspark.sql import SparkSession\n",
    "import time\n",
    "\n",
    "# Create a SparkSession\n",
    "spark = SparkSession.builder.appName(\"SparkSQL\").getOrCreate()"
   ]
  },
  {
   "cell_type": "code",
   "execution_count": 0,
   "metadata": {
    "ExecuteTime": {
     "end_time": "2024-11-27T00:00:46.225834Z",
     "start_time": "2024-11-27T00:00:06.783461Z"
    },
    "application/vnd.databricks.v1+cell": {
     "cellMetadata": {
      "byteLimit": 2048000,
      "rowLimit": 10000
     },
     "inputWidgets": {},
     "nuid": "e7f5f52f-c75c-42b6-ba41-86dbfb59f355",
     "showTitle": false,
     "tableResultSettingsMap": {},
     "title": ""
    },
    "colab": {
     "base_uri": "https://localhost:8080/"
    },
    "id": "wOJqxG_RPSwp",
    "outputId": "7857ef9f-5b04-405d-f5aa-e535dfe7870c"
   },
   "outputs": [
    {
     "data": {
      "text/html": [
       "<style scoped>\n",
       "  .table-result-container {\n",
       "    max-height: 300px;\n",
       "    overflow: auto;\n",
       "  }\n",
       "  table, th, td {\n",
       "    border: 1px solid black;\n",
       "    border-collapse: collapse;\n",
       "  }\n",
       "  th, td {\n",
       "    padding: 5px;\n",
       "  }\n",
       "  th {\n",
       "    text-align: left;\n",
       "  }\n",
       "</style><div class='table-result-container'><table class='table-result'><thead style='background-color: white'><tr><th>id</th><th>date</th><th>date_built</th><th>price</th><th>bedrooms</th><th>bathrooms</th><th>sqft_living</th><th>sqft_lot</th><th>floors</th><th>waterfront</th><th>view</th></tr></thead><tbody><tr><td>f8a53099-ba1c-47d6-9c31-7398aa8f6089</td><td>2022-04-08</td><td>2016</td><td>936923</td><td>4</td><td>3</td><td>3167</td><td>11733</td><td>2</td><td>1</td><td>76</td></tr><tr><td>7530a2d8-1ae3-4517-9f4a-befe060c4353</td><td>2021-06-13</td><td>2013</td><td>379628</td><td>2</td><td>2</td><td>2235</td><td>14384</td><td>1</td><td>0</td><td>23</td></tr><tr><td>43de979c-0bf0-4c9f-85ef-96dc27b258d5</td><td>2019-04-12</td><td>2014</td><td>417866</td><td>2</td><td>2</td><td>2127</td><td>10575</td><td>2</td><td>0</td><td>0</td></tr><tr><td>b672c137-b88c-48bf-9f18-d0a4ac62fb8b</td><td>2019-10-16</td><td>2016</td><td>239895</td><td>2</td><td>2</td><td>1631</td><td>11149</td><td>2</td><td>0</td><td>0</td></tr><tr><td>e0726d4d-d595-4074-8283-4139a54d0d63</td><td>2022-01-08</td><td>2017</td><td>424418</td><td>3</td><td>2</td><td>2249</td><td>13878</td><td>2</td><td>0</td><td>4</td></tr><tr><td>5aa00529-0533-46ba-870c-9e881580ef35</td><td>2019-01-30</td><td>2017</td><td>218712</td><td>2</td><td>3</td><td>1965</td><td>14375</td><td>2</td><td>0</td><td>7</td></tr><tr><td>131492a1-72e2-4a84-bf97-0db14973bfdb</td><td>2020-02-08</td><td>2017</td><td>419199</td><td>2</td><td>3</td><td>2062</td><td>8876</td><td>2</td><td>0</td><td>6</td></tr><tr><td>8d54a71b-c520-44e5-8ba1-5a84be03ad35</td><td>2019-07-21</td><td>2010</td><td>323956</td><td>2</td><td>3</td><td>1506</td><td>11816</td><td>1</td><td>0</td><td>25</td></tr><tr><td>e81aacfe-17fe-46b1-a52a-4753d1622b4a</td><td>2020-06-16</td><td>2016</td><td>181925</td><td>3</td><td>3</td><td>2137</td><td>11709</td><td>2</td><td>0</td><td>22</td></tr><tr><td>2ed8d509-7372-46d5-a9dd-9281a95467d4</td><td>2021-08-06</td><td>2015</td><td>258710</td><td>3</td><td>3</td><td>1918</td><td>9666</td><td>1</td><td>0</td><td>25</td></tr></tbody></table></div>"
      ]
     },
     "metadata": {
      "application/vnd.databricks.v1+output": {
       "addedWidgets": {},
       "aggData": [],
       "aggError": "",
       "aggOverflow": false,
       "aggSchema": [],
       "aggSeriesLimitReached": false,
       "aggType": "",
       "arguments": {},
       "columnCustomDisplayInfos": {},
       "data": [
        [
         "f8a53099-ba1c-47d6-9c31-7398aa8f6089",
         "2022-04-08",
         2016,
         936923,
         4,
         3,
         3167,
         11733,
         2,
         1,
         76
        ],
        [
         "7530a2d8-1ae3-4517-9f4a-befe060c4353",
         "2021-06-13",
         2013,
         379628,
         2,
         2,
         2235,
         14384,
         1,
         0,
         23
        ],
        [
         "43de979c-0bf0-4c9f-85ef-96dc27b258d5",
         "2019-04-12",
         2014,
         417866,
         2,
         2,
         2127,
         10575,
         2,
         0,
         0
        ],
        [
         "b672c137-b88c-48bf-9f18-d0a4ac62fb8b",
         "2019-10-16",
         2016,
         239895,
         2,
         2,
         1631,
         11149,
         2,
         0,
         0
        ],
        [
         "e0726d4d-d595-4074-8283-4139a54d0d63",
         "2022-01-08",
         2017,
         424418,
         3,
         2,
         2249,
         13878,
         2,
         0,
         4
        ],
        [
         "5aa00529-0533-46ba-870c-9e881580ef35",
         "2019-01-30",
         2017,
         218712,
         2,
         3,
         1965,
         14375,
         2,
         0,
         7
        ],
        [
         "131492a1-72e2-4a84-bf97-0db14973bfdb",
         "2020-02-08",
         2017,
         419199,
         2,
         3,
         2062,
         8876,
         2,
         0,
         6
        ],
        [
         "8d54a71b-c520-44e5-8ba1-5a84be03ad35",
         "2019-07-21",
         2010,
         323956,
         2,
         3,
         1506,
         11816,
         1,
         0,
         25
        ],
        [
         "e81aacfe-17fe-46b1-a52a-4753d1622b4a",
         "2020-06-16",
         2016,
         181925,
         3,
         3,
         2137,
         11709,
         2,
         0,
         22
        ],
        [
         "2ed8d509-7372-46d5-a9dd-9281a95467d4",
         "2021-08-06",
         2015,
         258710,
         3,
         3,
         1918,
         9666,
         1,
         0,
         25
        ]
       ],
       "datasetInfos": [],
       "dbfsResultPath": null,
       "isJsonSchema": true,
       "metadata": {},
       "overflow": false,
       "plotOptions": {
        "customPlotOptions": {},
        "displayType": "table",
        "pivotAggregation": null,
        "pivotColumns": null,
        "xColumns": null,
        "yColumns": null
       },
       "removedWidgets": [],
       "schema": [
        {
         "metadata": "{}",
         "name": "id",
         "type": "\"string\""
        },
        {
         "metadata": "{\"__detected_date_formats\":\"yyyy-M-d\"}",
         "name": "date",
         "type": "\"date\""
        },
        {
         "metadata": "{}",
         "name": "date_built",
         "type": "\"integer\""
        },
        {
         "metadata": "{}",
         "name": "price",
         "type": "\"integer\""
        },
        {
         "metadata": "{}",
         "name": "bedrooms",
         "type": "\"integer\""
        },
        {
         "metadata": "{}",
         "name": "bathrooms",
         "type": "\"integer\""
        },
        {
         "metadata": "{}",
         "name": "sqft_living",
         "type": "\"integer\""
        },
        {
         "metadata": "{}",
         "name": "sqft_lot",
         "type": "\"integer\""
        },
        {
         "metadata": "{}",
         "name": "floors",
         "type": "\"integer\""
        },
        {
         "metadata": "{}",
         "name": "waterfront",
         "type": "\"integer\""
        },
        {
         "metadata": "{}",
         "name": "view",
         "type": "\"integer\""
        }
       ],
       "type": "table"
      }
     },
     "output_type": "display_data"
    }
   ],
   "source": [
    "# 1. Read in the AWS S3 bucket into a DataFrame.\n",
    "home_sales_csv = \"/FileStore/tables/home_sales_revised.csv\"\n",
    "home_sales = spark.read.csv(home_sales_csv, inferSchema=True, header=True)\n",
    "\n",
    "\n",
    "# Show DataFrame\n",
    "display(home_sales.limit(10))\n"
   ]
  },
  {
   "cell_type": "code",
   "execution_count": 0,
   "metadata": {
    "ExecuteTime": {
     "end_time": "2024-11-27T00:03:50.350997Z",
     "start_time": "2024-11-27T00:03:50.308112Z"
    },
    "application/vnd.databricks.v1+cell": {
     "cellMetadata": {
      "byteLimit": 2048000,
      "rowLimit": 10000
     },
     "inputWidgets": {},
     "nuid": "072b5c47-2ca6-43bb-84f6-cfbd2e034e35",
     "showTitle": false,
     "tableResultSettingsMap": {},
     "title": ""
    },
    "id": "RoljcJ7WPpnm"
   },
   "outputs": [],
   "source": [
    "# 2. Create a temporary view of the DataFrame.\n",
    "home_sales.createOrReplaceTempView('home_sales')\n"
   ]
  },
  {
   "cell_type": "code",
   "execution_count": 0,
   "metadata": {
    "ExecuteTime": {
     "end_time": "2024-11-27T00:32:50.157163Z",
     "start_time": "2024-11-27T00:32:49.925811Z"
    },
    "application/vnd.databricks.v1+cell": {
     "cellMetadata": {
      "byteLimit": 2048000,
      "rowLimit": 10000
     },
     "inputWidgets": {},
     "nuid": "2632d22f-8346-4a31-9689-2cfa7f5eb2f7",
     "showTitle": false,
     "tableResultSettingsMap": {},
     "title": ""
    },
    "colab": {
     "base_uri": "https://localhost:8080/"
    },
    "id": "L6fkwOeOmqvq",
    "outputId": "bdded620-79c4-488d-c7a5-91c6799c419e"
   },
   "outputs": [
    {
     "name": "stdout",
     "output_type": "stream",
     "text": [
      "+----------+-----------+\n",
      "|date_built|  avg_price|\n",
      "+----------+-----------+\n",
      "|      2010|$296,800.75|\n",
      "|      2011|$302,141.90|\n",
      "|      2012|$298,233.42|\n",
      "|      2013|$299,999.39|\n",
      "|      2014|$299,073.89|\n",
      "|      2015|$307,908.86|\n",
      "|      2016|$296,050.24|\n",
      "|      2017|$296,576.69|\n",
      "+----------+-----------+\n",
      "\n"
     ]
    }
   ],
   "source": [
    "# 3. What is the average price for a four bedroom house sold per year, rounded to two decimal places?\n",
    "spark.sql(\"SELECT date_built, CONCAT('$', format_number(AVG(price), 2)) as avg_price \\\n",
    "           FROM home_sales \\\n",
    "           WHERE bedrooms=4 \\\n",
    "           GROUP BY date_built \\\n",
    "           ORDER BY date_built\").show()\n"
   ]
  },
  {
   "cell_type": "code",
   "execution_count": 0,
   "metadata": {
    "ExecuteTime": {
     "end_time": "2024-11-27T00:34:23.842674Z",
     "start_time": "2024-11-27T00:34:23.530408Z"
    },
    "application/vnd.databricks.v1+cell": {
     "cellMetadata": {
      "byteLimit": 2048000,
      "rowLimit": 10000
     },
     "inputWidgets": {},
     "nuid": "c4f5ee40-89d8-4fe7-89cc-e87b48d30460",
     "showTitle": false,
     "tableResultSettingsMap": {},
     "title": ""
    },
    "colab": {
     "base_uri": "https://localhost:8080/"
    },
    "id": "l8p_tUS8h8it",
    "outputId": "65806e5f-6262-41c0-ff65-5107464e5c4d"
   },
   "outputs": [
    {
     "name": "stdout",
     "output_type": "stream",
     "text": [
      "+----------+-----------+\n",
      "|date_built|  avg_price|\n",
      "+----------+-----------+\n",
      "|      2010|$292,859.62|\n",
      "|      2011|$291,117.47|\n",
      "|      2012|$293,683.19|\n",
      "|      2013|$295,962.27|\n",
      "|      2014|$290,852.27|\n",
      "|      2015|$288,770.30|\n",
      "|      2016|$290,555.07|\n",
      "|      2017|$292,676.79|\n",
      "+----------+-----------+\n",
      "\n"
     ]
    }
   ],
   "source": [
    "# 4. What is the average price of a home for each year the home was built,\n",
    "# that have 3 bedrooms and 3 bathrooms, rounded to two decimal places?\n",
    "spark.sql(\"SELECT date_built, CONCAT('$', format_number(AVG(price), 2)) as avg_price \\\n",
    "          FROM home_sales \\\n",
    "          WHERE bedrooms=3 AND bathrooms=3 \\\n",
    "          GROUP BY date_built \\\n",
    "          ORDER BY date_built\").show()\n",
    "\n"
   ]
  },
  {
   "cell_type": "code",
   "execution_count": 0,
   "metadata": {
    "ExecuteTime": {
     "end_time": "2024-11-27T00:36:49.851042Z",
     "start_time": "2024-11-27T00:36:49.543370Z"
    },
    "application/vnd.databricks.v1+cell": {
     "cellMetadata": {
      "byteLimit": 2048000,
      "rowLimit": 10000
     },
     "inputWidgets": {},
     "nuid": "37c5a422-df24-49f1-847a-2d04cf2f9332",
     "showTitle": false,
     "tableResultSettingsMap": {},
     "title": ""
    },
    "colab": {
     "base_uri": "https://localhost:8080/"
    },
    "id": "Y-Eytz64liDU",
    "outputId": "17119810-56ad-40c3-de5e-c3db57e43bcc"
   },
   "outputs": [
    {
     "name": "stdout",
     "output_type": "stream",
     "text": [
      "+----------+-----------+\n",
      "|date_built|  avg_price|\n",
      "+----------+-----------+\n",
      "|      2010|$285,010.22|\n",
      "|      2011|$276,553.81|\n",
      "|      2012|$307,539.97|\n",
      "|      2013|$303,676.79|\n",
      "|      2014|$298,264.72|\n",
      "|      2015|$297,609.97|\n",
      "|      2016|$293,965.10|\n",
      "|      2017|$280,317.58|\n",
      "+----------+-----------+\n",
      "\n"
     ]
    }
   ],
   "source": [
    "# 5. What is the average price of a home for each year the home was built,\n",
    "# that have 3 bedrooms, 3 bathrooms, with two floors,\n",
    "# and are greater than or equal to 2,000 square feet, rounded to two decimal places?\n",
    "spark.sql(\"SELECT date_built, CONCAT('$', format_number(AVG(price), 2)) as avg_price \\\n",
    "          FROM home_sales \\\n",
    "          WHERE bedrooms=3 AND bathrooms=3 \\\n",
    "          AND floors=2 AND sqft_living>=2000 \\\n",
    "          GROUP BY date_built \\\n",
    "          ORDER BY date_built\").show()\n"
   ]
  },
  {
   "cell_type": "code",
   "execution_count": 0,
   "metadata": {
    "ExecuteTime": {
     "end_time": "2024-11-27T00:49:15.957877Z",
     "start_time": "2024-11-27T00:49:15.569142Z"
    },
    "application/vnd.databricks.v1+cell": {
     "cellMetadata": {
      "byteLimit": 2048000,
      "rowLimit": 10000
     },
     "inputWidgets": {},
     "nuid": "9e7fb243-7ebc-47d3-b597-134674b6fd07",
     "showTitle": false,
     "tableResultSettingsMap": {},
     "title": ""
    },
    "colab": {
     "base_uri": "https://localhost:8080/"
    },
    "id": "GUrfgOX1pCRd",
    "outputId": "17c25774-855e-4290-a4bd-a04902bdc13a"
   },
   "outputs": [
    {
     "name": "stdout",
     "output_type": "stream",
     "text": [
      "+----+-------------+\n",
      "|view|    avg_price|\n",
      "+----+-------------+\n",
      "| 100|$1,026,669.50|\n",
      "|  99|$1,061,201.42|\n",
      "|  98|$1,053,739.33|\n",
      "|  97|$1,129,040.15|\n",
      "|  96|$1,017,815.92|\n",
      "|  95|$1,054,325.60|\n",
      "|  94|$1,033,536.20|\n",
      "|  93|$1,026,006.06|\n",
      "|  92|  $970,402.55|\n",
      "|  91|$1,137,372.73|\n",
      "|  90|$1,062,654.16|\n",
      "|  89|$1,107,839.15|\n",
      "|  88|$1,031,719.35|\n",
      "|  87|$1,072,285.20|\n",
      "|  86|$1,070,444.25|\n",
      "|  85|$1,056,336.74|\n",
      "|  84|$1,117,233.13|\n",
      "|  83|$1,033,965.93|\n",
      "|  82|$1,063,498.00|\n",
      "|  81|$1,053,472.79|\n",
      "+----+-------------+\n",
      "only showing top 20 rows\n",
      "\n",
      "--- 1.130544662475586 seconds ---\n"
     ]
    }
   ],
   "source": [
    "# 6. What is the average price of a home per \"view\" rating, rounded to two decimal places,\n",
    "# having an average home price greater than or equal to $350,000? Order by descending view rating. \n",
    "# Although this is a small dataset, determine the run time for this query.\n",
    "\n",
    "start_time = time.time()\n",
    "spark.sql(\"SELECT view, CONCAT('$', format_number(AVG(price), 2)) as avg_price \\\n",
    "          FROM home_sales \\\n",
    "          GROUP BY view \\\n",
    "          HAVING AVG(price) >= 350000  \\\n",
    "          ORDER BY view DESC\").show()\n",
    "\n",
    "\n",
    "print(\"--- %s seconds ---\" % (time.time() - start_time))"
   ]
  },
  {
   "cell_type": "code",
   "execution_count": 0,
   "metadata": {
    "ExecuteTime": {
     "end_time": "2024-11-27T00:52:52.219732Z",
     "start_time": "2024-11-27T00:52:51.688561Z"
    },
    "application/vnd.databricks.v1+cell": {
     "cellMetadata": {
      "byteLimit": 2048000,
      "rowLimit": 10000
     },
     "inputWidgets": {},
     "nuid": "0e58dc99-2f85-48e4-9dbe-df9428010ef0",
     "showTitle": false,
     "tableResultSettingsMap": {},
     "title": ""
    },
    "colab": {
     "base_uri": "https://localhost:8080/"
    },
    "id": "KAhk3ZD2tFy8",
    "outputId": "0a8f132d-40a8-4bd4-b5f2-2847e98427f5"
   },
   "outputs": [
    {
     "name": "stdout",
     "output_type": "stream",
     "text": [
      "Out[9]: DataFrame[]"
     ]
    }
   ],
   "source": [
    "# 7. Cache the temporary table home_sales.\n",
    "spark.sql(\"cache table home_sales\")"
   ]
  },
  {
   "cell_type": "code",
   "execution_count": 0,
   "metadata": {
    "ExecuteTime": {
     "end_time": "2024-11-27T00:52:55.434644Z",
     "start_time": "2024-11-27T00:52:55.405916Z"
    },
    "application/vnd.databricks.v1+cell": {
     "cellMetadata": {
      "byteLimit": 2048000,
      "rowLimit": 10000
     },
     "inputWidgets": {},
     "nuid": "22367f61-6bc9-4f98-be2f-365a5cdbd03d",
     "showTitle": false,
     "tableResultSettingsMap": {},
     "title": ""
    },
    "colab": {
     "base_uri": "https://localhost:8080/"
    },
    "id": "4opVhbvxtL-i",
    "outputId": "38ec8487-795f-4550-b50c-fcc6f2b7c769"
   },
   "outputs": [
    {
     "name": "stdout",
     "output_type": "stream",
     "text": [
      "Out[10]: True"
     ]
    }
   ],
   "source": [
    "# 8. Check if the table is cached.\n",
    "spark.catalog.isCached('home_sales')"
   ]
  },
  {
   "cell_type": "code",
   "execution_count": 0,
   "metadata": {
    "ExecuteTime": {
     "end_time": "2024-11-27T00:54:13.811282Z",
     "start_time": "2024-11-27T00:54:13.593681Z"
    },
    "application/vnd.databricks.v1+cell": {
     "cellMetadata": {
      "byteLimit": 2048000,
      "rowLimit": 10000
     },
     "inputWidgets": {},
     "nuid": "e6d3e83b-d3fa-441f-a302-6017a4b15826",
     "showTitle": false,
     "tableResultSettingsMap": {},
     "title": ""
    },
    "colab": {
     "base_uri": "https://localhost:8080/"
    },
    "id": "5GnL46lwTSEk",
    "outputId": "09a16c73-194d-4371-95d1-ee64fe83b91c"
   },
   "outputs": [
    {
     "name": "stdout",
     "output_type": "stream",
     "text": [
      "+----+-------------+\n",
      "|view|    avg_price|\n",
      "+----+-------------+\n",
      "| 100|$1,026,669.50|\n",
      "|  99|$1,061,201.42|\n",
      "|  98|$1,053,739.33|\n",
      "|  97|$1,129,040.15|\n",
      "|  96|$1,017,815.92|\n",
      "|  95|$1,054,325.60|\n",
      "|  94|$1,033,536.20|\n",
      "|  93|$1,026,006.06|\n",
      "|  92|  $970,402.55|\n",
      "|  91|$1,137,372.73|\n",
      "|  90|$1,062,654.16|\n",
      "|  89|$1,107,839.15|\n",
      "|  88|$1,031,719.35|\n",
      "|  87|$1,072,285.20|\n",
      "|  86|$1,070,444.25|\n",
      "|  85|$1,056,336.74|\n",
      "|  84|$1,117,233.13|\n",
      "|  83|$1,033,965.93|\n",
      "|  82|$1,063,498.00|\n",
      "|  81|$1,053,472.79|\n",
      "+----+-------------+\n",
      "only showing top 20 rows\n",
      "\n",
      "--- 0.584320068359375 seconds ---\n"
     ]
    }
   ],
   "source": [
    "# 9. Using the cached data, run the last query above, that calculates \n",
    "# the average price of a home per \"view\" rating, rounded to two decimal places,\n",
    "# having an average home price greater than or equal to $350,000. \n",
    "# Determine the runtime and compare it to the uncached runtime.\n",
    "\n",
    "start_time = time.time()\n",
    "spark.sql(\"SELECT view, CONCAT('$', format_number(AVG(price), 2)) as avg_price \\\n",
    "          FROM home_sales \\\n",
    "          GROUP BY view \\\n",
    "          HAVING AVG(price) >= 350000  \\\n",
    "          ORDER BY view DESC\").show()\n",
    "\n",
    "print(\"--- %s seconds ---\" % (time.time() - start_time))\n"
   ]
  },
  {
   "cell_type": "code",
   "execution_count": 0,
   "metadata": {
    "ExecuteTime": {
     "end_time": "2024-11-27T00:59:59.099105Z",
     "start_time": "2024-11-27T00:59:57.718215Z"
    },
    "application/vnd.databricks.v1+cell": {
     "cellMetadata": {
      "byteLimit": 2048000,
      "rowLimit": 10000
     },
     "inputWidgets": {},
     "nuid": "bc027211-2dee-4dd9-8f98-c333e7abad58",
     "showTitle": false,
     "tableResultSettingsMap": {},
     "title": ""
    },
    "id": "Qm12WN9isHBR"
   },
   "outputs": [],
   "source": [
    "# 10. Partition by the \"date_built\" field on the formatted parquet home sales data\n",
    "home_sales.write.partitionBy(\"date_built\").mode(\"overwrite\").parquet(\"home_sales_partitioned\")"
   ]
  },
  {
   "cell_type": "code",
   "execution_count": 0,
   "metadata": {
    "application/vnd.databricks.v1+cell": {
     "cellMetadata": {
      "byteLimit": 2048000,
      "rowLimit": 10000
     },
     "inputWidgets": {},
     "nuid": "6eeb2b6e-c523-4a4e-843f-d114ddbab73d",
     "showTitle": false,
     "tableResultSettingsMap": {},
     "title": ""
    }
   },
   "outputs": [
    {
     "name": "stdout",
     "output_type": "stream",
     "text": [
      "Out[13]: [FileInfo(path='dbfs:/home_sales_partitioned/_SUCCESS', name='_SUCCESS', size=0, modificationTime=1732678548000),\n",
      " FileInfo(path='dbfs:/home_sales_partitioned/_committed_678959342526232500', name='_committed_678959342526232500', size=35, modificationTime=1732672451000),\n",
      " FileInfo(path='dbfs:/home_sales_partitioned/date_built=2010/', name='date_built=2010/', size=0, modificationTime=0),\n",
      " FileInfo(path='dbfs:/home_sales_partitioned/date_built=2011/', name='date_built=2011/', size=0, modificationTime=0),\n",
      " FileInfo(path='dbfs:/home_sales_partitioned/date_built=2012/', name='date_built=2012/', size=0, modificationTime=0),\n",
      " FileInfo(path='dbfs:/home_sales_partitioned/date_built=2013/', name='date_built=2013/', size=0, modificationTime=0),\n",
      " FileInfo(path='dbfs:/home_sales_partitioned/date_built=2014/', name='date_built=2014/', size=0, modificationTime=0),\n",
      " FileInfo(path='dbfs:/home_sales_partitioned/date_built=2015/', name='date_built=2015/', size=0, modificationTime=0),\n",
      " FileInfo(path='dbfs:/home_sales_partitioned/date_built=2016/', name='date_built=2016/', size=0, modificationTime=0),\n",
      " FileInfo(path='dbfs:/home_sales_partitioned/date_built=2017/', name='date_built=2017/', size=0, modificationTime=0)]"
     ]
    }
   ],
   "source": [
    "dbutils.fs.ls('home_sales_partitioned')"
   ]
  },
  {
   "cell_type": "code",
   "execution_count": 0,
   "metadata": {
    "application/vnd.databricks.v1+cell": {
     "cellMetadata": {
      "byteLimit": 2048000,
      "rowLimit": 10000
     },
     "inputWidgets": {},
     "nuid": "062ea7fe-d53b-4830-849c-33bdb6325004",
     "showTitle": false,
     "tableResultSettingsMap": {},
     "title": ""
    },
    "id": "AZ7BgY61sRqY"
   },
   "outputs": [],
   "source": [
    "# 11. Read the formatted parquet data.\n",
    "p_df_p = spark.read.parquet('/home_sales_partitioned')\n"
   ]
  },
  {
   "cell_type": "code",
   "execution_count": 0,
   "metadata": {
    "application/vnd.databricks.v1+cell": {
     "cellMetadata": {
      "byteLimit": 2048000,
      "rowLimit": 10000
     },
     "inputWidgets": {},
     "nuid": "d5d1b931-4f0a-45c1-a252-6c420b2b8380",
     "showTitle": false,
     "tableResultSettingsMap": {},
     "title": ""
    },
    "id": "J6MJkHfvVcvh"
   },
   "outputs": [],
   "source": [
    "# 12. Create a temporary table for the parquet data.\n",
    "p_df_p.createOrReplaceTempView('p_delays_p')\n"
   ]
  },
  {
   "cell_type": "code",
   "execution_count": 0,
   "metadata": {
    "application/vnd.databricks.v1+cell": {
     "cellMetadata": {
      "byteLimit": 2048000,
      "rowLimit": 10000
     },
     "inputWidgets": {},
     "nuid": "99a761a2-4c10-4256-98b2-51c142078c88",
     "showTitle": false,
     "tableResultSettingsMap": {},
     "title": ""
    },
    "colab": {
     "base_uri": "https://localhost:8080/"
    },
    "id": "G_Vhb52rU1Sn",
    "outputId": "a0b8d0c4-55ed-4c6c-bfd8-4c8c5334838e"
   },
   "outputs": [
    {
     "name": "stdout",
     "output_type": "stream",
     "text": [
      "+----+-------------+\n",
      "|view|    avg_price|\n",
      "+----+-------------+\n",
      "| 100|$1,026,669.50|\n",
      "|  99|$1,061,201.42|\n",
      "|  98|$1,053,739.33|\n",
      "|  97|$1,129,040.15|\n",
      "|  96|$1,017,815.92|\n",
      "|  95|$1,054,325.60|\n",
      "|  94|$1,033,536.20|\n",
      "|  93|$1,026,006.06|\n",
      "|  92|  $970,402.55|\n",
      "|  91|$1,137,372.73|\n",
      "|  90|$1,062,654.16|\n",
      "|  89|$1,107,839.15|\n",
      "|  88|$1,031,719.35|\n",
      "|  87|$1,072,285.20|\n",
      "|  86|$1,070,444.25|\n",
      "|  85|$1,056,336.74|\n",
      "|  84|$1,117,233.13|\n",
      "|  83|$1,033,965.93|\n",
      "|  82|$1,063,498.00|\n",
      "|  81|$1,053,472.79|\n",
      "+----+-------------+\n",
      "only showing top 20 rows\n",
      "\n",
      "--- 1.0146169662475586 seconds ---\n"
     ]
    }
   ],
   "source": [
    "# 13. Using the parquet DataFrame, run the last query above, that calculates \n",
    "# the average price of a home per \"view\" rating, rounded to two decimal places,\n",
    "# having an average home price greater than or equal to $350,000. \n",
    "# Determine the runtime and compare it to the cached runtime.\n",
    "\n",
    "start_time = time.time()\n",
    "\n",
    "spark.sql(\"SELECT view, CONCAT('$', format_number(AVG(price), 2)) as avg_price \\\n",
    "          FROM home_sales \\\n",
    "          GROUP BY view \\\n",
    "          HAVING AVG(price) >= 350000  \\\n",
    "          ORDER BY view DESC\").show()\n",
    "\n",
    "print(\"--- %s seconds ---\" % (time.time() - start_time))"
   ]
  },
  {
   "cell_type": "code",
   "execution_count": 0,
   "metadata": {
    "application/vnd.databricks.v1+cell": {
     "cellMetadata": {
      "byteLimit": 2048000,
      "rowLimit": 10000
     },
     "inputWidgets": {},
     "nuid": "10f6e6e7-ae27-4686-b06e-bfdd6877de4a",
     "showTitle": false,
     "tableResultSettingsMap": {},
     "title": ""
    },
    "colab": {
     "base_uri": "https://localhost:8080/"
    },
    "id": "hjjYzQGjtbq8",
    "outputId": "830549fd-bb41-451b-9183-5ebf6e3e470b"
   },
   "outputs": [
    {
     "name": "stdout",
     "output_type": "stream",
     "text": [
      "Out[17]: DataFrame[]"
     ]
    }
   ],
   "source": [
    "# 14. Uncache the home_sales temporary table.\n",
    "spark.sql(\"uncache table home_sales\")"
   ]
  },
  {
   "cell_type": "code",
   "execution_count": 0,
   "metadata": {
    "application/vnd.databricks.v1+cell": {
     "cellMetadata": {
      "byteLimit": 2048000,
      "rowLimit": 10000
     },
     "inputWidgets": {},
     "nuid": "e4c62bc4-8e4b-4dee-8152-afe17ed10651",
     "showTitle": false,
     "tableResultSettingsMap": {},
     "title": ""
    },
    "colab": {
     "base_uri": "https://localhost:8080/"
    },
    "id": "Sy9NBvO7tlmm",
    "outputId": "be73e0e3-5e85-4794-aad9-025fb6fa84a7"
   },
   "outputs": [
    {
     "name": "stdout",
     "output_type": "stream",
     "text": [
      "all clear\n"
     ]
    }
   ],
   "source": [
    "# 15. Check if the home_sales is no longer cached\n",
    "# Verify that the table is no longer cached\n",
    "if spark.catalog.isCached(\"home_sales\"):\n",
    "  print(\"a table is till cached\")\n",
    "else:\n",
    "  print(\"all clear\")\n"
   ]
  },
  {
   "cell_type": "code",
   "execution_count": 0,
   "metadata": {
    "application/vnd.databricks.v1+cell": {
     "cellMetadata": {
      "byteLimit": 2048000,
      "rowLimit": 10000
     },
     "inputWidgets": {},
     "nuid": "81aa76dc-9e70-4836-8a80-238588aab277",
     "showTitle": false,
     "tableResultSettingsMap": {},
     "title": ""
    }
   },
   "outputs": [],
   "source": []
  }
 ],
 "metadata": {
  "application/vnd.databricks.v1+notebook": {
   "dashboards": [],
   "environmentMetadata": null,
   "language": "python",
   "notebookMetadata": {
    "pythonIndentUnit": 4
   },
   "notebookName": "Home_Sales",
   "widgets": {}
  },
  "colab": {
   "collapsed_sections": [],
   "name": "Copy of Home_Sales_solution.ipynb",
   "provenance": []
  },
  "kernelspec": {
   "display_name": "Python 3 (ipykernel)",
   "language": "python",
   "name": "python3"
  },
  "language_info": {
   "codemirror_mode": {
    "name": "ipython",
    "version": 3
   },
   "file_extension": ".py",
   "mimetype": "text/x-python",
   "name": "python",
   "nbconvert_exporter": "python",
   "pygments_lexer": "ipython3",
   "version": "3.10.4"
  },
  "nteract": {
   "version": "0.28.0"
  }
 },
 "nbformat": 4,
 "nbformat_minor": 0
}
